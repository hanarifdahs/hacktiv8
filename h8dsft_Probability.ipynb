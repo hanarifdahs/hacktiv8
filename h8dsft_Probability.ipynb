{
  "nbformat": 4,
  "nbformat_minor": 0,
  "metadata": {
    "colab": {
      "name": "h8dsft_Probability.ipynb",
      "provenance": [],
      "authorship_tag": "ABX9TyMcdZrLOSLL3cKM8VeRHQTY",
      "include_colab_link": true
    },
    "kernelspec": {
      "name": "python3",
      "display_name": "Python 3"
    },
    "language_info": {
      "name": "python"
    }
  },
  "cells": [
    {
      "cell_type": "markdown",
      "metadata": {
        "id": "view-in-github",
        "colab_type": "text"
      },
      "source": [
        "<a href=\"https://colab.research.google.com/github/hanarifdahs/hacktiv8/blob/main/h8dsft_Probability.ipynb\" target=\"_parent\"><img src=\"https://colab.research.google.com/assets/colab-badge.svg\" alt=\"Open In Colab\"/></a>"
      ]
    },
    {
      "cell_type": "code",
      "metadata": {
        "colab": {
          "base_uri": "https://localhost:8080/"
        },
        "id": "hAFVyZey5pJA",
        "outputId": "28eb924d-c3e8-4dd8-c6b3-4671f4124a8c"
      },
      "source": [
        "import numpy as np\n",
        "n, p = 1, .5  # number of trials, probability of each trial\n",
        "s = np.random.binomial(n, p, 50000)\n",
        "if s[-1] == 0:\n",
        "  result = 'Head'\n",
        "else:\n",
        "  result = 'Tail' \n",
        "\n",
        "print(result)"
      ],
      "execution_count": 1,
      "outputs": [
        {
          "output_type": "stream",
          "name": "stdout",
          "text": [
            "Tail\n"
          ]
        }
      ]
    }
  ]
}