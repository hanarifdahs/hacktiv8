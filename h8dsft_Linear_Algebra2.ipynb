{
  "nbformat": 4,
  "nbformat_minor": 0,
  "metadata": {
    "colab": {
      "name": "h8dsft_Linear_Algebra2.ipynb",
      "provenance": [],
      "authorship_tag": "ABX9TyObco2z7knvI0CBWF6YWI8P",
      "include_colab_link": true
    },
    "kernelspec": {
      "name": "python3",
      "display_name": "Python 3"
    },
    "language_info": {
      "name": "python"
    }
  },
  "cells": [
    {
      "cell_type": "markdown",
      "metadata": {
        "id": "view-in-github",
        "colab_type": "text"
      },
      "source": [
        "<a href=\"https://colab.research.google.com/github/hanarifdahs/hacktiv8/blob/main/h8dsft_Linear_Algebra2.ipynb\" target=\"_parent\"><img src=\"https://colab.research.google.com/assets/colab-badge.svg\" alt=\"Open In Colab\"/></a>"
      ]
    },
    {
      "cell_type": "markdown",
      "metadata": {
        "id": "PFVTlgf55IEF"
      },
      "source": [
        "#Soal 1"
      ]
    },
    {
      "cell_type": "code",
      "metadata": {
        "id": "ZxO8tSvp5ZYt"
      },
      "source": [
        "import numpy as np"
      ],
      "execution_count": 17,
      "outputs": []
    },
    {
      "cell_type": "code",
      "metadata": {
        "colab": {
          "base_uri": "https://localhost:8080/"
        },
        "id": "jOTOlc1a46At",
        "outputId": "c2c98e70-cdff-48d1-e417-24a8140399ae"
      },
      "source": [
        "tensor = np.array([\n",
        "                    [[23,50],[7,12]],\n",
        "                    [[57,67],[99,43]],\n",
        "                    [[75,21],[57,12]],\n",
        "                    [[87,26],[18,84]]\n",
        "                  ])\n",
        "print(tensor)"
      ],
      "execution_count": 18,
      "outputs": [
        {
          "output_type": "stream",
          "name": "stdout",
          "text": [
            "[[[23 50]\n",
            "  [ 7 12]]\n",
            "\n",
            " [[57 67]\n",
            "  [99 43]]\n",
            "\n",
            " [[75 21]\n",
            "  [57 12]]\n",
            "\n",
            " [[87 26]\n",
            "  [18 84]]]\n"
          ]
        }
      ]
    },
    {
      "cell_type": "markdown",
      "metadata": {
        "id": "y7oDf3Rwb5Fw"
      },
      "source": [
        "#Soal 2"
      ]
    },
    {
      "cell_type": "code",
      "metadata": {
        "colab": {
          "base_uri": "https://localhost:8080/"
        },
        "id": "Xf90pjMib7gO",
        "outputId": "cf3b18be-4922-4c93-cadc-5df510906723"
      },
      "source": [
        "A = np.array([[23,50,19],[7,12,109],[57,67,98]])\n",
        "B = np.array([[17],[22],[19]])\n",
        "print(A)\n",
        "print(B)"
      ],
      "execution_count": 19,
      "outputs": [
        {
          "output_type": "stream",
          "name": "stdout",
          "text": [
            "[[ 23  50  19]\n",
            " [  7  12 109]\n",
            " [ 57  67  98]]\n",
            "[[17]\n",
            " [22]\n",
            " [19]]\n"
          ]
        }
      ]
    },
    {
      "cell_type": "code",
      "metadata": {
        "colab": {
          "base_uri": "https://localhost:8080/"
        },
        "id": "Zf0UhrOtceJ_",
        "outputId": "cc2a1a51-7e02-4004-e9a7-4c60b153a223"
      },
      "source": [
        "\n",
        "print(A*B)"
      ],
      "execution_count": 20,
      "outputs": [
        {
          "output_type": "stream",
          "name": "stdout",
          "text": [
            "[[ 391  850  323]\n",
            " [ 154  264 2398]\n",
            " [1083 1273 1862]]\n"
          ]
        }
      ]
    },
    {
      "cell_type": "markdown",
      "metadata": {
        "id": "GmZJ9ytz9TWi"
      },
      "source": [
        "#Soal 3"
      ]
    },
    {
      "cell_type": "code",
      "metadata": {
        "id": "LF4l17PPdt4S"
      },
      "source": [
        "from numpy.linalg import det\n",
        "from numpy.linalg import inv"
      ],
      "execution_count": 21,
      "outputs": []
    },
    {
      "cell_type": "code",
      "metadata": {
        "colab": {
          "base_uri": "https://localhost:8080/"
        },
        "id": "qMPc1E8q9UfT",
        "outputId": "318ac1c1-fe31-4c3d-85a1-7007b5c37647"
      },
      "source": [
        "A"
      ],
      "execution_count": 22,
      "outputs": [
        {
          "output_type": "execute_result",
          "data": {
            "text/plain": [
              "array([[ 23,  50,  19],\n",
              "       [  7,  12, 109],\n",
              "       [ 57,  67,  98]])"
            ]
          },
          "metadata": {},
          "execution_count": 22
        }
      ]
    },
    {
      "cell_type": "code",
      "metadata": {
        "colab": {
          "base_uri": "https://localhost:8080/"
        },
        "id": "Vo4OrQKHdNf_",
        "outputId": "44f78404-808c-4d47-a4db-017490a58f85"
      },
      "source": [
        "A.T # Transpose"
      ],
      "execution_count": 26,
      "outputs": [
        {
          "output_type": "execute_result",
          "data": {
            "text/plain": [
              "array([[ 23,   7,  57],\n",
              "       [ 50,  12,  67],\n",
              "       [ 19, 109,  98]])"
            ]
          },
          "metadata": {},
          "execution_count": 26
        }
      ]
    },
    {
      "cell_type": "code",
      "metadata": {
        "colab": {
          "base_uri": "https://localhost:8080/"
        },
        "id": "T2YhY9REdPlq",
        "outputId": "a02f3f4e-37d5-474c-8c39-06e0953d4eb5"
      },
      "source": [
        "det(A) #to find determinant"
      ],
      "execution_count": 24,
      "outputs": [
        {
          "output_type": "execute_result",
          "data": {
            "text/plain": [
              "131344.0000000002"
            ]
          },
          "metadata": {},
          "execution_count": 24
        }
      ]
    },
    {
      "cell_type": "code",
      "metadata": {
        "colab": {
          "base_uri": "https://localhost:8080/"
        },
        "id": "bIUgkajpd3y8",
        "outputId": "7cefd9d6-dce2-4983-c0ba-8d156645a32d"
      },
      "source": [
        "inv(A) #to find inverse"
      ],
      "execution_count": 25,
      "outputs": [
        {
          "output_type": "execute_result",
          "data": {
            "text/plain": [
              "array([[-0.0466485 , -0.02761451,  0.03975819],\n",
              "       [ 0.04208034,  0.00891552, -0.01807467],\n",
              "       [-0.00163692,  0.0099662 , -0.00056341]])"
            ]
          },
          "metadata": {},
          "execution_count": 25
        }
      ]
    }
  ]
}