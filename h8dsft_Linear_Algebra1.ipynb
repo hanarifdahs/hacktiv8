{
  "nbformat": 4,
  "nbformat_minor": 0,
  "metadata": {
    "colab": {
      "name": "h8dsft_Linear_Algebra1.ipynb",
      "provenance": [],
      "authorship_tag": "ABX9TyOdElxdNBTDbtEwvfR4w10D",
      "include_colab_link": true
    },
    "kernelspec": {
      "name": "python3",
      "display_name": "Python 3"
    },
    "language_info": {
      "name": "python"
    }
  },
  "cells": [
    {
      "cell_type": "markdown",
      "metadata": {
        "id": "view-in-github",
        "colab_type": "text"
      },
      "source": [
        "<a href=\"https://colab.research.google.com/github/hanarifdahs/hacktiv8/blob/main/h8dsft_Linear_Algebra1.ipynb\" target=\"_parent\"><img src=\"https://colab.research.google.com/assets/colab-badge.svg\" alt=\"Open In Colab\"/></a>"
      ]
    },
    {
      "cell_type": "code",
      "metadata": {
        "id": "8SKGhbfgv_PT"
      },
      "source": [
        "import numpy as np\n",
        "from numpy.linalg import norm\n",
        "import matplotlib.pyplot as plt\n"
      ],
      "execution_count": 1,
      "outputs": []
    },
    {
      "cell_type": "markdown",
      "metadata": {
        "id": "8r4ZHCGTxFRk"
      },
      "source": [
        "#Soal 1"
      ]
    },
    {
      "cell_type": "code",
      "metadata": {
        "colab": {
          "base_uri": "https://localhost:8080/"
        },
        "id": "RMQOLx25wYJC",
        "outputId": "3384fdc6-c157-4ba8-91af-91b9cbb99b7a"
      },
      "source": [
        "np.array([17,22,19])"
      ],
      "execution_count": 2,
      "outputs": [
        {
          "output_type": "execute_result",
          "data": {
            "text/plain": [
              "array([17, 22, 19])"
            ]
          },
          "metadata": {},
          "execution_count": 2
        }
      ]
    },
    {
      "cell_type": "markdown",
      "metadata": {
        "id": "2QoACbiQxLDa"
      },
      "source": [
        "#Soal 2"
      ]
    },
    {
      "cell_type": "code",
      "metadata": {
        "id": "qpEK8Az0xMoX"
      },
      "source": [
        "A = np.array([17,22,19])\n",
        "B = np.array([10,20,11])\n",
        "C = np.array([5,12,9])"
      ],
      "execution_count": 3,
      "outputs": []
    },
    {
      "cell_type": "code",
      "metadata": {
        "colab": {
          "base_uri": "https://localhost:8080/"
        },
        "id": "4tkAPLdJxZoV",
        "outputId": "c3d20d89-72b8-48af-d7cb-3529dcd0d902"
      },
      "source": [
        "# A + B\n",
        "print('A+B -->',A+B)\n",
        "#B-C\n",
        "print('B-C -->',B-C)\n",
        "#A dot C\n",
        "print('A dot C -->',A.dot(C))\n",
        "#A x B\n",
        "print('A x B -->',np.cross(A,B))\n",
        "#sudut antar vektor A & B\n",
        "pembilang = A.dot(B)\n",
        "penyebut = norm(A)*norm(B)\n",
        "print('Sudut antara vektor A & B -->',pembilang/penyebut)"
      ],
      "execution_count": 4,
      "outputs": [
        {
          "output_type": "stream",
          "name": "stdout",
          "text": [
            "A+B --> [27 42 30]\n",
            "B-C --> [5 8 2]\n",
            "A dot C --> 520\n",
            "A x B --> [-138    3  120]\n",
            "Sudut antara vektor A & B --> 0.9759590023331435\n"
          ]
        }
      ]
    },
    {
      "cell_type": "markdown",
      "metadata": {
        "id": "PGKOMVkKoevL"
      },
      "source": [
        "#Soal 3"
      ]
    },
    {
      "cell_type": "code",
      "metadata": {
        "id": "FCQh4BUyof5i"
      },
      "source": [
        "u = np.array([2,5])\n",
        "v = np.array([3,1])"
      ],
      "execution_count": 5,
      "outputs": []
    },
    {
      "cell_type": "code",
      "metadata": {
        "colab": {
          "base_uri": "https://localhost:8080/",
          "height": 269
        },
        "id": "3mPY9Bf-85C7",
        "outputId": "8cbe10d9-6502-4575-f2c3-a9f0eb124151"
      },
      "source": [
        "x_coor, y_coor = zip(u,v)\n",
        "plt.scatter(x_coor, y_coor, color = [\"r\",\"b\"])\n",
        "plt.axis([0, 10, 0,10])\n",
        "plt.grid()\n",
        "plt.show()"
      ],
      "execution_count": 13,
      "outputs": [
        {
          "output_type": "display_data",
          "data": {
            "image/png": "[encoded data removed]",
            "text/plain": [
              "<Figure size 432x288 with 1 Axes>"
            ]
          },
          "metadata": {
            "needs_background": "light"
          }
        }
      ]
    },
    {
      "cell_type": "code",
      "metadata": {
        "colab": {
          "base_uri": "https://localhost:8080/",
          "height": 269
        },
        "id": "SlKJ0vrM_FTr",
        "outputId": "83ada4c3-4102-42ba-ffa8-ac5658193e97"
      },
      "source": [
        "def plot2d(vector2d, origin=[0,0],**options):\n",
        "  return plt.arrow(origin[0], origin[1],vector2d[0], vector2d[1], head_width = 0.3, length_includes_head = True, **options)\n",
        "'''\n",
        "origin : Titik awal\n",
        "**options : untuk ngasi warna\n",
        "head_width : besar ujung panahnya\n",
        "length_includes_head = True : si ujung panahnya masuk ke plot\n",
        "'''\n",
        "plot2d(u, color = \"r\")\n",
        "plot2d(v, color = \"b\")\n",
        "plt.axis([0, 10, 0, 10])\n",
        "plt.grid()\n",
        "plt.show()"
      ],
      "execution_count": 25,
      "outputs": [
        {
          "output_type": "display_data",
          "data": {
            "image/png": "[encoded data removed]",
            "text/plain": [
              "<Figure size 432x288 with 1 Axes>"
            ]
          },
          "metadata": {
            "needs_background": "light"
          }
        }
      ]
    }
  ]
}