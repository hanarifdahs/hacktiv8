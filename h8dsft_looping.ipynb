{
  "nbformat": 4,
  "nbformat_minor": 0,
  "metadata": {
    "colab": {
      "name": "h8dsft_looping.ipynb",
      "provenance": [],
      "collapsed_sections": [],
      "authorship_tag": "ABX9TyP5iJ+EAf0K7xyj2NimkCtk",
      "include_colab_link": true
    },
    "kernelspec": {
      "name": "python3",
      "display_name": "Python 3"
    },
    "language_info": {
      "name": "python"
    }
  },
  "cells": [
    {
      "cell_type": "markdown",
      "metadata": {
        "id": "view-in-github",
        "colab_type": "text"
      },
      "source": [
        "<a href=\"https://colab.research.google.com/github/hanarifdahs/hacktiv8/blob/main/h8dsft_looping.ipynb\" target=\"_parent\"><img src=\"https://colab.research.google.com/assets/colab-badge.svg\" alt=\"Open In Colab\"/></a>"
      ]
    },
    {
      "cell_type": "markdown",
      "metadata": {
        "id": "MBeJ1cM7LQak"
      },
      "source": [
        "**NON GRADE CHALLENGE 1**"
      ]
    },
    {
      "cell_type": "markdown",
      "metadata": {
        "id": "FpBXGp76LZa6"
      },
      "source": [
        "List yang berisikan angka-angka sesuai soal"
      ]
    },
    {
      "cell_type": "code",
      "metadata": {
        "id": "ifZfCX4JLPcM"
      },
      "source": [
        "numbers = [951, 402, 984, 651, 360, 69, 408, 319, 601, 485, 980, 507, 725, 547,\n",
        "           544, 615, 83, 165, 141, 501, 263, 617, 865, 575, 219, 390, 984, 592,\n",
        "           236, 105, 942, 941, 386, 462, 47, 418, 907, 344, 236, 375, 823, 566,\n",
        "           597, 978, 328, 615, 953, 345, 399, 162, 758, 219, 918, 237, 412, 566,\n",
        "           826, 248, 866, 950, 626, 949]\n"
      ],
      "execution_count": null,
      "outputs": []
    },
    {
      "cell_type": "markdown",
      "metadata": {
        "id": "ZPQ6BKgCMmml"
      },
      "source": [
        "**looping with conditional**\n",
        "\n",
        "for loop akan melooping iterasi pada list numbers, variabel i merupakan iterasi. Jika pada iterasi ditemukan hasil sisa pembagian atau modulus sama dengan 0 yang berarti genap maka output yang keluar angka genap. Lalu jika pada iterasi menemukan angka 918 maka looping akan berhenti dan looping berakhir ter-print kalimat Done."
      ]
    },
    {
      "cell_type": "code",
      "metadata": {
        "colab": {
          "base_uri": "https://localhost:8080/"
        },
        "id": "Y9u1k3sMM6Hv",
        "outputId": "2c53d7b3-6c1e-49cd-f479-a1d202fb361f"
      },
      "source": [
        "for i in numbers:\n",
        "  if i % 2 == 0:\n",
        "    print(i)\n",
        "  if i == 918:\n",
        "    break\n",
        "  \n",
        "print('Done')"
      ],
      "execution_count": null,
      "outputs": [
        {
          "output_type": "stream",
          "name": "stdout",
          "text": [
            "402\n",
            "984\n",
            "360\n",
            "408\n",
            "980\n",
            "544\n",
            "390\n",
            "984\n",
            "592\n",
            "236\n",
            "942\n",
            "386\n",
            "462\n",
            "418\n",
            "344\n",
            "236\n",
            "566\n",
            "978\n",
            "328\n",
            "162\n",
            "758\n",
            "918\n",
            "Done\n"
          ]
        }
      ]
    }
  ]
}