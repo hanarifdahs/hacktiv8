{
  "nbformat": 4,
  "nbformat_minor": 0,
  "metadata": {
    "colab": {
      "name": "h8dsft_Calculus2.ipynb",
      "provenance": [],
      "collapsed_sections": [],
      "authorship_tag": "ABX9TyOXIUC4iu1gJ7nTNVIjbX/e",
      "include_colab_link": true
    },
    "kernelspec": {
      "name": "python3",
      "display_name": "Python 3"
    },
    "language_info": {
      "name": "python"
    }
  },
  "cells": [
    {
      "cell_type": "markdown",
      "metadata": {
        "id": "view-in-github",
        "colab_type": "text"
      },
      "source": [
        "<a href=\"https://colab.research.google.com/github/hanarifdahs/hacktiv8/blob/main/h8dsft_Calculus2.ipynb\" target=\"_parent\"><img src=\"https://colab.research.google.com/assets/colab-badge.svg\" alt=\"Open In Colab\"/></a>"
      ]
    },
    {
      "cell_type": "markdown",
      "metadata": {
        "id": "4ZSpc-_KqvP4"
      },
      "source": [
        "#Simbolik"
      ]
    },
    {
      "cell_type": "code",
      "metadata": {
        "id": "s0WpBaKRqqm9"
      },
      "source": [
        "import sympy as sy"
      ],
      "execution_count": 1,
      "outputs": []
    },
    {
      "cell_type": "code",
      "metadata": {
        "colab": {
          "base_uri": "https://localhost:8080/",
          "height": 38
        },
        "id": "3NzRqFcCq3hQ",
        "outputId": "bb494f08-b2eb-409f-d9c9-e5d4f2bcbead"
      },
      "source": [
        "x = sy.Symbol('x')\n",
        "f1 = 3*x**2 - 6*x + 3\n",
        "f1"
      ],
      "execution_count": 3,
      "outputs": [
        {
          "output_type": "execute_result",
          "data": {
            "text/latex": "$\\displaystyle 3 x^{2} - 6 x + 3$",
            "text/plain": [
              "3*x**2 - 6*x + 3"
            ]
          },
          "metadata": {},
          "execution_count": 3
        }
      ]
    },
    {
      "cell_type": "code",
      "metadata": {
        "colab": {
          "base_uri": "https://localhost:8080/",
          "height": 38
        },
        "id": "_Cvj0Z_9reQw",
        "outputId": "11528739-6b03-4d21-9039-c6eefb4fd509"
      },
      "source": [
        "f2 = 8*x**3 -x**2 +5*x -1\n",
        "f2"
      ],
      "execution_count": 4,
      "outputs": [
        {
          "output_type": "execute_result",
          "data": {
            "text/latex": "$\\displaystyle 8 x^{3} - x^{2} + 5 x - 1$",
            "text/plain": [
              "8*x**3 - x**2 + 5*x - 1"
            ]
          },
          "metadata": {},
          "execution_count": 4
        }
      ]
    },
    {
      "cell_type": "code",
      "metadata": {
        "colab": {
          "base_uri": "https://localhost:8080/",
          "height": 38
        },
        "id": "EfmUrqVBrkW5",
        "outputId": "27478379-593a-4130-997f-a520d5764ded"
      },
      "source": [
        "sy.integrate(f1)"
      ],
      "execution_count": 5,
      "outputs": [
        {
          "output_type": "execute_result",
          "data": {
            "text/latex": "$\\displaystyle x^{3} - 3 x^{2} + 3 x$",
            "text/plain": [
              "x**3 - 3*x**2 + 3*x"
            ]
          },
          "metadata": {},
          "execution_count": 5
        }
      ]
    },
    {
      "cell_type": "code",
      "metadata": {
        "colab": {
          "base_uri": "https://localhost:8080/",
          "height": 54
        },
        "id": "CUpcIj9Xrok3",
        "outputId": "2472e4e0-c4f9-4f97-a9f5-dbb0cea53118"
      },
      "source": [
        "sy.integrate(f2)"
      ],
      "execution_count": 7,
      "outputs": [
        {
          "output_type": "execute_result",
          "data": {
            "text/latex": "$\\displaystyle 2 x^{4} - \\frac{x^{3}}{3} + \\frac{5 x^{2}}{2} - x$",
            "text/plain": [
              "2*x**4 - x**3/3 + 5*x**2/2 - x"
            ]
          },
          "metadata": {},
          "execution_count": 7
        }
      ]
    },
    {
      "cell_type": "markdown",
      "metadata": {
        "id": "i-6D9kZwrqV4"
      },
      "source": [
        "#Numerik"
      ]
    },
    {
      "cell_type": "code",
      "metadata": {
        "id": "57bXo9gQrtCH"
      },
      "source": [
        "from scipy import integrate"
      ],
      "execution_count": 9,
      "outputs": []
    },
    {
      "cell_type": "code",
      "metadata": {
        "colab": {
          "base_uri": "https://localhost:8080/"
        },
        "id": "_kBtMY_Lrw4I",
        "outputId": "00fd0b67-5d2d-4321-cf17-2218046fdebf"
      },
      "source": [
        "x_num = np.linspace(2,5)\n",
        "def f1(x):\n",
        "  return 3*x**2 - 6*x + 3\n",
        "integrate.trapz(f1(x_num),x_num)"
      ],
      "execution_count": 19,
      "outputs": [
        {
          "output_type": "execute_result",
          "data": {
            "text/plain": [
              "63.005622657226155"
            ]
          },
          "metadata": {},
          "execution_count": 19
        }
      ]
    },
    {
      "cell_type": "code",
      "metadata": {
        "colab": {
          "base_uri": "https://localhost:8080/"
        },
        "id": "3IlEAVx9t8gS",
        "outputId": "bab720a9-5e37-4a84-a7cd-fac1861d5dd5"
      },
      "source": [
        "integrate.quad(f1,2,5)"
      ],
      "execution_count": 20,
      "outputs": [
        {
          "output_type": "execute_result",
          "data": {
            "text/plain": [
              "(62.999999999999986, 6.994405055138484e-13)"
            ]
          },
          "metadata": {},
          "execution_count": 20
        }
      ]
    }
  ]
}