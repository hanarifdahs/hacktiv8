{
  "nbformat": 4,
  "nbformat_minor": 0,
  "metadata": {
    "colab": {
      "name": "h8dsft_Linear_Algebra3.ipynb",
      "provenance": [],
      "collapsed_sections": [],
      "authorship_tag": "ABX9TyMrb+kI3FUyB5XxzNAcIxJC",
      "include_colab_link": true
    },
    "kernelspec": {
      "name": "python3",
      "display_name": "Python 3"
    },
    "language_info": {
      "name": "python"
    }
  },
  "cells": [
    {
      "cell_type": "markdown",
      "metadata": {
        "id": "view-in-github",
        "colab_type": "text"
      },
      "source": [
        "<a href=\"https://colab.research.google.com/github/hanarifdahs/hacktiv8/blob/main/h8dsft_Linear_Algebra3.ipynb\" target=\"_parent\"><img src=\"https://colab.research.google.com/assets/colab-badge.svg\" alt=\"Open In Colab\"/></a>"
      ]
    },
    {
      "cell_type": "markdown",
      "metadata": {
        "id": "B3Dy09omfU8G"
      },
      "source": [
        "#Soal 1"
      ]
    },
    {
      "cell_type": "code",
      "metadata": {
        "id": "7vQFHhlDfRkA"
      },
      "source": [
        "from numpy.linalg import eig\n",
        "import numpy as np"
      ],
      "execution_count": 2,
      "outputs": []
    },
    {
      "cell_type": "code",
      "metadata": {
        "colab": {
          "base_uri": "https://localhost:8080/"
        },
        "id": "RyBO8qnTgpTt",
        "outputId": "c7b50073-62ba-499e-c372-ea952c8aa209"
      },
      "source": [
        "A = np.array([[1,-1],[6,4]])\n",
        "A"
      ],
      "execution_count": 3,
      "outputs": [
        {
          "output_type": "execute_result",
          "data": {
            "text/plain": [
              "array([[ 1, -1],\n",
              "       [ 6,  4]])"
            ]
          },
          "metadata": {},
          "execution_count": 3
        }
      ]
    },
    {
      "cell_type": "code",
      "metadata": {
        "colab": {
          "base_uri": "https://localhost:8080/"
        },
        "id": "p6GoEd4eg5SI",
        "outputId": "ed62f5d8-851d-435e-e3bb-76369d75e25a"
      },
      "source": [
        "eigVal, eigVec = eig(A)\n",
        "print(\"Ini Eigen Vector\")\n",
        "print(eigVec)\n",
        "print('Ini Eigen Value nya') #masing masing vector akan memiliki value masing-masing\n",
        "print(eigVal)\n"
      ],
      "execution_count": 4,
      "outputs": [
        {
          "output_type": "stream",
          "name": "stdout",
          "text": [
            "Ini Eigen Vector\n",
            "[[-0.23145502+0.29880715j -0.23145502-0.29880715j]\n",
            " [ 0.9258201 +0.j          0.9258201 -0.j        ]]\n",
            "Ini Eigen Value nya\n",
            "[2.5+1.93649167j 2.5-1.93649167j]\n"
          ]
        }
      ]
    },
    {
      "cell_type": "markdown",
      "metadata": {
        "id": "tQcfLnqltExu"
      },
      "source": [
        "[1,3] bukan eigen vector nya"
      ]
    }
  ]
}