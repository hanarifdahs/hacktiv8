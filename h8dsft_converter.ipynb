{
  "nbformat": 4,
  "nbformat_minor": 0,
  "metadata": {
    "colab": {
      "name": "h8dsft_converter.ipynb",
      "provenance": [],
      "collapsed_sections": [],
      "authorship_tag": "ABX9TyMTOAncXfosvFUE7uK+W3VI",
      "include_colab_link": true
    },
    "kernelspec": {
      "name": "python3",
      "display_name": "Python 3"
    },
    "language_info": {
      "name": "python"
    }
  },
  "cells": [
    {
      "cell_type": "markdown",
      "metadata": {
        "id": "view-in-github",
        "colab_type": "text"
      },
      "source": [
        "<a href=\"https://colab.research.google.com/github/hanarifdahs/hacktiv8/blob/main/h8dsft_converter.ipynb\" target=\"_parent\"><img src=\"https://colab.research.google.com/assets/colab-badge.svg\" alt=\"Open In Colab\"/></a>"
      ]
    },
    {
      "cell_type": "markdown",
      "metadata": {
        "id": "YN5IZApQ6Fyd"
      },
      "source": [
        "K = C + 273\n",
        "\n",
        "C = K - 273\n",
        "\n",
        "F = (9/5 * C) + 32\n",
        "\n",
        "C = 5/9 *  (F - 32)\n"
      ]
    },
    {
      "cell_type": "code",
      "metadata": {
        "colab": {
          "base_uri": "https://localhost:8080/"
        },
        "id": "QNqyRIgVkh2r",
        "outputId": "fd74a8f0-0b31-4a60-b0b2-992e2565d82c"
      },
      "source": [
        "temp = int(input(\"input suhu : \"))\n",
        "mode = input(\"input derajat suhu nya : \")\n",
        "temp1 = str(temp)"
      ],
      "execution_count": 23,
      "outputs": [
        {
          "name": "stdout",
          "output_type": "stream",
          "text": [
            "input suhu : 100\n",
            "input derajat suhu nya : Celcius\n"
          ]
        }
      ]
    },
    {
      "cell_type": "code",
      "metadata": {
        "id": "Zv6QyzMl3yUb"
      },
      "source": [
        "def kelCel(mode = None, temp=0):\n",
        "  if mode == 'Kelvin':\n",
        "    kelvin = str(temp - 273) + \" C\"\n",
        "    return kelvin\n",
        "  elif mode == 'Celcius':\n",
        "    celcius = str(temp + 273) + \" K\"\n",
        "    return celcius"
      ],
      "execution_count": 47,
      "outputs": []
    },
    {
      "cell_type": "code",
      "metadata": {
        "id": "P1nmBOMKdja-"
      },
      "source": [
        "def toFahr(mode = None, temp = 0):\n",
        "  if mode == 'Celcius':\n",
        "    suhuKelvin = str(round(9/5*(temp-273) + 32)) + \" F\"\n",
        "    return suhuKelvin\n",
        "  elif mode == 'Kelvin':\n",
        "    suhuCelcius = str(round(9/5* temp) + 32) + \" F\"\n",
        "    return suhuCelcius"
      ],
      "execution_count": 48,
      "outputs": []
    },
    {
      "cell_type": "code",
      "metadata": {
        "id": "5UaD9c9Skkke"
      },
      "source": [
        "def fromFahr(mode = None, temp = 0):\n",
        "  if mode == 'toCelcius':\n",
        "    suhuCelcius =str(round(5/9*(temp - 32)))+\" C\"\n",
        "    return suhuCelcius\n",
        "  elif mode == 'toKelvin':\n",
        "    suhuKelvin = str(round(5/9*(temp-32) + 273))+\" K\"\n",
        "    return suhuKelvin"
      ],
      "execution_count": 51,
      "outputs": []
    },
    {
      "cell_type": "code",
      "metadata": {
        "id": "5dImJv3MifS1",
        "colab": {
          "base_uri": "https://localhost:8080/"
        },
        "outputId": "2a573e44-9c45-4fe0-86d6-1e033d73699a"
      },
      "source": [
        "print(kelCel('Kelvin',100))\n",
        "print(kelCel('Celcius', 100))\n",
        "print(toFahr('Celcius',100))\n",
        "print(toFahr('Kelvin',100))\n",
        "print(fromFahr('toCelcius', 100))\n",
        "print(fromFahr('toKelvin', 100))"
      ],
      "execution_count": 52,
      "outputs": [
        {
          "output_type": "stream",
          "name": "stdout",
          "text": [
            "-173 C\n",
            "373 K\n",
            "-279 F\n",
            "212 F\n",
            "38 C\n",
            "311 K\n"
          ]
        }
      ]
    }
  ]
}