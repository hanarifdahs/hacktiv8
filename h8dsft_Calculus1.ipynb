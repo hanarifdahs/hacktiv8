{
  "nbformat": 4,
  "nbformat_minor": 0,
  "metadata": {
    "colab": {
      "name": "h8dsft_Calculus1.ipynb",
      "provenance": [],
      "authorship_tag": "ABX9TyNcB4WA2X2Ar6oSY2GLPYPD",
      "include_colab_link": true
    },
    "kernelspec": {
      "name": "python3",
      "display_name": "Python 3"
    },
    "language_info": {
      "name": "python"
    }
  },
  "cells": [
    {
      "cell_type": "markdown",
      "metadata": {
        "id": "view-in-github",
        "colab_type": "text"
      },
      "source": [
        "<a href=\"https://colab.research.google.com/github/hanarifdahs/hacktiv8/blob/main/h8dsft_Calculus1.ipynb\" target=\"_parent\"><img src=\"https://colab.research.google.com/assets/colab-badge.svg\" alt=\"Open In Colab\"/></a>"
      ]
    },
    {
      "cell_type": "markdown",
      "metadata": {
        "id": "fUuIIXi4kwM4"
      },
      "source": [
        "#Simbolik"
      ]
    },
    {
      "cell_type": "code",
      "metadata": {
        "id": "KKeteyI0knOd"
      },
      "source": [
        "import sympy as sy \n",
        "import numpy as np"
      ],
      "execution_count": 1,
      "outputs": []
    },
    {
      "cell_type": "code",
      "metadata": {
        "colab": {
          "base_uri": "https://localhost:8080/",
          "height": 38
        },
        "id": "9Yg3ZLf_lCTs",
        "outputId": "2072c854-3418-4629-ab53-178501eb9af0"
      },
      "source": [
        "x1 = sy.Symbol('x')\n",
        "y1 = x1**2 + 2*x1 + 1\n",
        "y1"
      ],
      "execution_count": 2,
      "outputs": [
        {
          "output_type": "execute_result",
          "data": {
            "text/latex": "$\\displaystyle x^{2} + 2 x + 1$",
            "text/plain": [
              "x**2 + 2*x + 1"
            ]
          },
          "metadata": {},
          "execution_count": 2
        }
      ]
    },
    {
      "cell_type": "code",
      "metadata": {
        "colab": {
          "base_uri": "https://localhost:8080/",
          "height": 38
        },
        "id": "yiIh57mwlun1",
        "outputId": "6cf166d5-f611-422f-caeb-b5d683ef1231"
      },
      "source": [
        "y2 = 4*x1**3 - 3*x1**2 + 2*x1 - 1\n",
        "y2"
      ],
      "execution_count": 3,
      "outputs": [
        {
          "output_type": "execute_result",
          "data": {
            "text/latex": "$\\displaystyle 4 x^{3} - 3 x^{2} + 2 x - 1$",
            "text/plain": [
              "4*x**3 - 3*x**2 + 2*x - 1"
            ]
          },
          "metadata": {},
          "execution_count": 3
        }
      ]
    },
    {
      "cell_type": "code",
      "metadata": {
        "colab": {
          "base_uri": "https://localhost:8080/",
          "height": 38
        },
        "id": "isr-XiSClj96",
        "outputId": "c6718ed5-36a0-4b12-a0e3-e16c3aac2418"
      },
      "source": [
        "y1.diff()"
      ],
      "execution_count": 4,
      "outputs": [
        {
          "output_type": "execute_result",
          "data": {
            "text/latex": "$\\displaystyle 2 x + 2$",
            "text/plain": [
              "2*x + 2"
            ]
          },
          "metadata": {},
          "execution_count": 4
        }
      ]
    },
    {
      "cell_type": "code",
      "metadata": {
        "colab": {
          "base_uri": "https://localhost:8080/",
          "height": 38
        },
        "id": "Fst9Z1gSmEgB",
        "outputId": "40c1a0cc-badf-434a-c98c-58e2dd901b97"
      },
      "source": [
        "y2.diff()"
      ],
      "execution_count": 5,
      "outputs": [
        {
          "output_type": "execute_result",
          "data": {
            "text/latex": "$\\displaystyle 12 x^{2} - 6 x + 2$",
            "text/plain": [
              "12*x**2 - 6*x + 2"
            ]
          },
          "metadata": {},
          "execution_count": 5
        }
      ]
    },
    {
      "cell_type": "markdown",
      "metadata": {
        "id": "l6M2BRkumM7t"
      },
      "source": [
        "#Numerik"
      ]
    },
    {
      "cell_type": "code",
      "metadata": {
        "id": "Ckupg8e-mO_Q"
      },
      "source": [
        "import numpy as np\n"
      ],
      "execution_count": 6,
      "outputs": []
    },
    {
      "cell_type": "code",
      "metadata": {
        "colab": {
          "base_uri": "https://localhost:8080/"
        },
        "id": "nCjUkb3emR7X",
        "outputId": "b6a14060-7ea5-4c68-deb3-032f6f9fec81"
      },
      "source": [
        "x = np.linspace(-10,10)\n",
        "y_1 = x**2 + 2*x + 1\n",
        "print('Ini hasil sebelum turunan')\n",
        "print(y_1)\n",
        "print('Ini hasil setelah turunan')\n",
        "print(np.diff(y_1))"
      ],
      "execution_count": 13,
      "outputs": [
        {
          "output_type": "stream",
          "name": "stdout",
          "text": [
            "Ini hasil sebelum turunan\n",
            "[8.10000000e+01 7.38196585e+01 6.69725115e+01 6.04585589e+01\n",
            " 5.42778009e+01 4.84302374e+01 4.29158684e+01 3.77346939e+01\n",
            " 3.28867139e+01 2.83719284e+01 2.41903374e+01 2.03419409e+01\n",
            " 1.68267389e+01 1.36447314e+01 1.07959184e+01 8.28029988e+00\n",
            " 6.09787589e+00 4.24864640e+00 2.73261141e+00 1.54977093e+00\n",
            " 7.00124948e-01 1.83673469e-01 4.16493128e-04 1.50354019e-01\n",
            " 6.33486047e-01 1.44981258e+00 2.59933361e+00 4.08204915e+00\n",
            " 5.89795918e+00 8.04706372e+00 1.05293628e+01 1.33448563e+01\n",
            " 1.64935444e+01 1.99754269e+01 2.37905040e+01 2.79387755e+01\n",
            " 3.24202416e+01 3.72349021e+01 4.23827572e+01 4.78638067e+01\n",
            " 5.36780508e+01 5.98254894e+01 6.63061224e+01 7.31199500e+01\n",
            " 8.02669721e+01 8.77471887e+01 9.55605998e+01 1.03707205e+02\n",
            " 1.12187005e+02 1.21000000e+02]\n",
            "Ini hasil setelah turunan\n",
            "[-7.18034152 -6.84714702 -6.51395252 -6.18075802 -5.84756352 -5.51436901\n",
            " -5.18117451 -4.84798001 -4.51478551 -4.181591   -3.8483965  -3.515202\n",
            " -3.1820075  -2.84881299 -2.51561849 -2.18242399 -1.84922949 -1.51603499\n",
            " -1.18284048 -0.84964598 -0.51645148 -0.18325698  0.14993753  0.48313203\n",
            "  0.81632653  1.14952103  1.48271554  1.81591004  2.14910454  2.48229904\n",
            "  2.81549354  3.14868805  3.48188255  3.81507705  4.14827155  4.48146606\n",
            "  4.81466056  5.14785506  5.48104956  5.81424406  6.14743857  6.48063307\n",
            "  6.81382757  7.14702207  7.48021658  7.81341108  8.14660558  8.47980008\n",
            "  8.81299459]\n"
          ]
        }
      ]
    },
    {
      "cell_type": "code",
      "metadata": {
        "colab": {
          "base_uri": "https://localhost:8080/"
        },
        "id": "dVlhrBnHnh-s",
        "outputId": "67cf12a2-04b5-4779-c6a6-82cc40b36b7b"
      },
      "source": [
        "y_2 = 4*x**3 - 3*x**2 + 2*x - 1\n",
        "print('Ini hasil sebelum turunan')\n",
        "print(y_2)\n",
        "print('Ini hasil setelah turunan')\n",
        "print(np.diff(y_2))"
      ],
      "execution_count": 15,
      "outputs": [
        {
          "output_type": "stream",
          "name": "stdout",
          "text": [
            "Ini hasil sebelum turunan\n",
            "[-4.32100000e+03 -3.82611743e+03 -3.37058580e+03 -2.95277316e+03\n",
            " -2.57104751e+03 -2.22377690e+03 -1.90932935e+03 -1.62607289e+03\n",
            " -1.37237553e+03 -1.14660532e+03 -9.47130269e+02 -7.72318413e+02\n",
            " -6.20537778e+02 -4.90156389e+02 -3.79542274e+02 -2.87063460e+02\n",
            " -2.11087974e+02 -1.49983842e+02 -1.02119092e+02 -6.58617498e+01\n",
            " -3.95798434e+01 -2.16413994e+01 -1.04144447e+01 -4.26700609e+00\n",
            " -1.56711064e+00 -6.82785234e-01  1.79432039e-02  2.16704774e+00\n",
            "  7.39650146e+00  1.73382774e+01  3.36243487e+01  5.78866884e+01\n",
            "  9.17572695e+01  1.36868065e+02  1.94851048e+02  2.67338192e+02\n",
            "  3.55961470e+02  4.62352855e+02  5.88144319e+02  7.34967837e+02\n",
            "  9.04455380e+02  1.09823892e+03  1.31795044e+03  1.56522190e+03\n",
            "  1.84168528e+03  2.14897255e+03  2.48871568e+03  2.86254665e+03\n",
            "  3.27209743e+03  3.71900000e+03]\n",
            "Ini hasil setelah turunan\n",
            "[494.88257444 455.53162373 417.81264609 381.72564153 347.27061003\n",
            " 314.44755162 283.25646627 253.69735399 225.77021479 199.47504866\n",
            " 174.8118556  151.78063562 130.38138871 110.61411487  92.4788141\n",
            "  75.9754864   61.10413178  47.86475023  36.25734175  26.28190635\n",
            "  17.93844402  11.22695476   6.14743857   2.69989545   0.88432541\n",
            "   0.70072844   2.14910454   5.22945371   9.94177596  16.28607128\n",
            "  24.26233967  33.87058114  45.11079567  57.98298328  72.48714396\n",
            "  88.62327772 106.39138454 125.79146444 146.82351741 169.48754346\n",
            " 193.78354257 219.71151476 247.27146002 276.46337835 307.28726976\n",
            " 339.74313424 373.83097179 409.55078241 446.90256611]\n"
          ]
        }
      ]
    }
  ]
}